{
 "cells": [
  {
   "cell_type": "markdown",
   "metadata": {},
   "source": [
    "---\n",
    "toc: False\n",
    "layout: false\n",
    "hide: false\n",
    "title: P2 | SASS\n",
    "description: Team Teach On SASS\n",
    "courses: {'compsci': {'week': 15}}\n",
    "type: tangibles\n",
    "---"
   ]
  },
  {
   "cell_type": "markdown",
   "metadata": {},
   "source": [
    "# Introduction to Basic SASS\n",
    "\n",
    "## What is SASS?\n",
    "* SASS is an acronym for Syntactically Awesome StyleSheets, and it is an extension of CSS that adds power and elegance to the basic language.\n",
    "    * Takes input data and converts it to an output that’s used as input by another program.\n",
    "   \n"
   ]
  },
  {
   "cell_type": "markdown",
   "metadata": {},
   "source": [
    "## Variables in SASS and CSS\n",
    "- In our SCSS, define a color variable like so:"
   ]
  },
  {
   "cell_type": "code",
   "execution_count": null,
   "metadata": {},
   "outputs": [],
   "source": [
    "\n",
    "SCSS: \n",
    "$color-primary: #ffff00; // Yellow\n",
    "\n",
    "body {\n",
    "  background-color: $color-primary;\n",
    "}\n"
   ]
  },
  {
   "cell_type": "markdown",
   "metadata": {},
   "source": [
    "This will of course, set our background-color to yellow. It's that simple!\n",
    "\n",
    "Note: You can use single line comments in Sass with //.\n",
    "\n",
    "When we then run our compile, it’ll output the following CSS:\n"
   ]
  },
  {
   "cell_type": "code",
   "execution_count": null,
   "metadata": {},
   "outputs": [],
   "source": [
    "CSS: \n",
    "body {\n",
    "  color: #ffff00;\n",
    "}"
   ]
  },
  {
   "cell_type": "markdown",
   "metadata": {},
   "source": [
    "- If you wish to make a change to a colour used throughout your stylesheets, it’s much simpler to alter if the color is defined in one location, as a single variable.\n",
    "\n"
   ]
  },
  {
   "cell_type": "markdown",
   "metadata": {},
   "source": [
    "## Nesting:\n",
    "- Using nesting, we can nest child selectors inside of the parent selector.\n",
    "\n",
    "This results in much cleaner and less repetitive code."
   ]
  },
  {
   "cell_type": "code",
   "execution_count": null,
   "metadata": {},
   "outputs": [],
   "source": [
    "SASS Nesting:\n",
    ".navbar {\n",
    "    background-color: orangered;\n",
    "    padding: 1rem;\n",
    "    ul {\n",
    "      list-style: none;\n",
    "    }\n",
    "    li {\n",
    "      text-align: center;\n",
    "      margin: 1rem;\n",
    "    }\n",
    "  }"
   ]
  },
  {
   "cell_type": "code",
   "execution_count": null,
   "metadata": {},
   "outputs": [],
   "source": [
    "In CSS: \n",
    "    .navbar {\n",
    "  background-color: orangered;\n",
    "  padding: 1rem;\n",
    "}\n",
    ".navbar ul {\n",
    "  list-style: none;\n",
    "}\n",
    ".navbar li {\n",
    "  text-align: center;\n",
    "  margin: 1rem;\n",
    "}"
   ]
  },
  {
   "cell_type": "markdown",
   "metadata": {},
   "source": [
    "There’s a lot of repetition here. Each time we want to style a child of navbar, we have to repeat the class name.\n"
   ]
  },
  {
   "cell_type": "markdown",
   "metadata": {},
   "source": [
    "## Mixings:\n",
    "Mixins are an extremely powerful feature of Sass. We use them to group together multiple CSS declarations for reuse throughout our projects.\n",
    "\n",
    "Say we want to create a mixin to hold the vendor prefixes for a transform property.\n",
    "\n",
    "In SASS, we’d code it like so:\n",
    "\n",
    "@mixin transform {\n",
    "  -webkit-transform: rotate(180deg);\n",
    "  -ms-transform: rotate(180deg);\n",
    "  transform: rotate(180deg);\n",
    "}\n",
    "To add the mixin into our code, we then use the @include directive, like so:\n",
    "\n",
    ".navbar {\n",
    "  background-color: orangered;\n",
    "  padding: 1rem;\n",
    "  ul {\n",
    "    list-style: none;\n",
    "  }\n",
    "  li {\n",
    "    text-align: center;\n",
    "    margin: 1rem;\n",
    "    @include transform;\n",
    "  }\n",
    "}\n",
    "All the code in the transform mixin will now be applied to the li element. You can also pass values into your mixins to make them even more flexible.\n",
    "\n",
    "Instead of adding a specified value, add a name (using a variable, like property) to represent the value like so:\n",
    "\n",
    "@mixin transform($property) {\n",
    "  -webkit-transform: $property;\n",
    "  -ms-transform: $property;\n",
    "  transform: $property;\n",
    "}\n",
    "Now we can pass in whatever value we like, whenever we call the mixin:\n",
    "\n",
    "@include transform (rotate(20deg));"
   ]
  },
  {
   "cell_type": "markdown",
   "metadata": {},
   "source": [
    "## SASS Functions:\n",
    "Sass functions can receive arguments and return a single value.\n",
    "\n",
    "They add an element of programming to writing CSS code, and we can now do math!\n",
    "\n",
    "The standard math operators +, -, *, /, and % can all be utilized.\n",
    "\n",
    "An example function\n",
    "The following function can accept two arguments, $first-number and $second-number. The value that is returned by the function is the sum of the two variables:\n",
    "\n",
    "@function add-numbers($first-number, $second-number) {\n",
    "  @return $first-number + $second-number\n",
    "}\n",
    "Say we want to replace the value of a padding property with the sum of two separate values.\n",
    "\n",
    "We would call our function and pass in the arguments like so:\n",
    "\n",
    ".box1 {\n",
    "  padding: add-numbers(5px, 10px);\n",
    "}\n",
    "The resulting CSS output would be:\n",
    "\n",
    ".box1 {\n",
    "  padding: 15px;\n",
    "}\n",
    "Lets see the full code:\n",
    "\n",
    "<html>\n",
    "  <head>\n",
    "    <title>Page Title</title>\n",
    "  </head>\n",
    "<body>\n",
    "<nav class=\"navbar\">\n",
    "  <ul>\n",
    "    <li>Home</li>\n",
    "    <li>Store</li>\n",
    "    <li>Contact Us</li>\n",
    "  </ul>\n",
    "</nav> \n",
    "</body>\n",
    "</html>\n",
    "And our SASS:\n",
    "\n",
    "@function add-numbers($first-number, $second-number) {\n",
    "  @return $first-number + $second-number\n",
    "}\n",
    "\n",
    ".navbar {\n",
    "  background-color: orangered;\n",
    "  padding: add-numbers(5px, 100px);\n",
    "  ul {\n",
    "    list-style: none;\n",
    "  }\n",
    "  li {\n",
    "    text-align: center;\n",
    "    margin: 1rem;\n",
    "  }\n",
    "}\n",
    "As you can see, functions help you write more readable and DRY Sass, as you can utilize reusable logic in a very efficient manner. This can make a huge difference when you start working on larger and more complex projects!\n",
    "\n"
   ]
  },
  {
   "cell_type": "markdown",
   "metadata": {},
   "source": [
    "## SASS Partials and Importing:\n",
    "\n",
    "* Partials in SASS help us to break up our files into smaller files without affecting performance.\n",
    "    * The use of partials allows us to modularize our CSS, to help keep things maintainable.\n",
    "    * We divide up our Sass into separate files representing different components. A partials’ name will always start with an underscore _. We then import the partial using an @import directive.\n",
    "\n",
    "* Imports: The @import directive is of course, also available in CSS. \n",
    "    * Whenever an import statement is used in CSS, an HTTP request is made to the server. This increases the amount of resource requests and negatively affects the performance of a web page. SASS does not do that. \n",
    "    * SASS takes the file that you want to import from and combines it with the file you’re importing. So you can serve a single CSS file to the web browser, which does not affect the performance."
   ]
  },
  {
   "cell_type": "markdown",
   "metadata": {},
   "source": [
    "## SASS Inheritance:\n",
    "\n",
    "* Another great feature of Sass is inheritance. We implement this using the @extend directive.\n",
    "\n",
    "* Inheritance is a feature of SASS that allows multiple classes to share a common set of properties with one another."
   ]
  },
  {
   "cell_type": "code",
   "execution_count": null,
   "metadata": {},
   "outputs": [],
   "source": [
    ".button-secondary {\n",
    "  @extend .button;\n",
    "  background-color: #4CAF50; // Green\n",
    "}  "
   ]
  },
  {
   "cell_type": "markdown",
   "metadata": {},
   "source": [
    "## The '&' Operator in SASS\n",
    "- The ampersand & operator is often used when nesting in SASS and is an extremely useful feature.\n",
    "\n",
    "- It can be a great time-saver, especially if you happen to be coding your stylesheets with the BEM methodology, or using any systematic naming convention for your class names."
   ]
  },
  {
   "cell_type": "markdown",
   "metadata": {},
   "source": [
    "## Advanced SASS\n",
    "\n",
    "### Operators:\n",
    "- In Advanced SASS, operators serve as powerful tools for executing dynamic calculations within stylesheets. For instance, developers harness mathematical operators like addition (+), subtraction (-), multiplication (*), and division (/) to dynamically adjust sizes, positions, or other style properties based on specific conditions or user interactions.\n",
    "\n",
    "### Conditional Statements:\n",
    "- Advanced SASS introduces conditional statements, including @if, @else, and @else if, providing developers with the ability to apply distinct styles based on specified conditions. This proves essential in crafting interactive interfaces where styles adapt dynamically in response to user actions or the application state.\n",
    "\n",
    "### Loops:\n",
    "- The incorporation of loops, such as @for and @each, empowers developers to iterate through lists of values or apply styles iteratively. This functionality proves beneficial for creating dynamic and repetitive elements or managing styles for data structures that evolve dynamically.\n",
    "\n",
    "### Functions:\n",
    "- Advanced SASS introduces functions, allowing developers to encapsulate intricate logic and calculations. This capability is invaluable for crafting dynamic styles that respond to diverse inputs or conditions. For example, developers can employ functions to calculate and set styles based on user preferences or device characteristics.\n",
    "\n",
    "### Built-in Functions:\n",
    "- Developers take advantage of Advanced SASS's built-in functions designed for math, color manipulation, and string manipulation. This functionality enables the dynamic generation of styles, proving particularly useful in tasks such as creating vibrant color schemes, responsive layouts, and other interactive design elements.\n",
    "\n",
    "### Extending & Inheritance:\n",
    "- Extending styles with @extend is a key feature in Advanced SASS, enabling developers to share common styles among selectors and reduce redundancy. This proves advantageous for creating consistent and easily maintainable styles, which is particularly crucial in interactive designs where styles may undergo dynamic changes, emphasizing the importance of maintaining coherence throughout the design process."
   ]
  },
  {
   "cell_type": "markdown",
   "metadata": {},
   "source": [
    "## Submenu and Sidebar"
   ]
  },
  {
   "cell_type": "markdown",
   "metadata": {},
   "source": [
    "### Utilization of SASS in this HTML Code:\n",
    "- This HTML code integrates SASS through the incorporation of various variables, including ($spacing-unit) and ($high-emph). These variables allow for more flexible and efficient styling adjustments throughout the code.\n",
    "\n",
    "### Display Mechanism for Submenus and Sidebars:\n",
    "- The appearance of submenus and sidebars is governed by the assignment of specific classes, denoted by \".\" or \"#.\" To render particular elements like submenus or sidebars, the code should commence with (#submenu) or (.sidebar), ensuring their proper functionality. This methodology extends to other elements such as table levels, where initiating the code with a \".\" or \"#\" sets the desired actions in motion.\n",
    "\n",
    "### Visual Representation:\n",
    "- The visual aspect of the HTML code can be observed by rendering the designated styles and configurations dictated by the underlying SASS code. The presentation is influenced by the assigned classes, variables, and specific styling instructions, resulting in a visually cohesive and styled representation of the HTML content.\n"
   ]
  },
  {
   "cell_type": "markdown",
   "metadata": {},
   "source": [
    "example of SCSS code:\n"
   ]
  },
  {
   "cell_type": "code",
   "execution_count": null,
   "metadata": {
    "vscode": {
     "languageId": "html"
    }
   },
   "outputs": [],
   "source": [
    "<!DOCTYPE html>\n",
    "<html lang=\"en\">\n",
    "<head>\n",
    "  <meta charset=\"UTF-8\">\n",
    "  <meta name=\"viewport\" content=\"width=device-width, initial-scale=1.0\">\n",
    "  <title>SCSS Example</title>\n",
    "  <link rel=\"stylesheet\" href=\"styles.css\"> <!-- Link to the compiled CSS file -->\n",
    "</head>\n",
    "<body>\n",
    "\n",
    "  <header>\n",
    "    <h1>Welcome to My Website</h1>\n",
    "  </header>\n",
    "\n",
    "  <nav>\n",
    "    <ul>\n",
    "      <li><a href=\"#\">Home</a></li>\n",
    "      <li><a href=\"#\">About</a></li>\n",
    "      <li><a href=\"#\">Services</a></li>\n",
    "      <li><a href=\"#\">Contact</a></li>\n",
    "    </ul>\n",
    "  </nav>\n",
    "\n",
    "  <div class=\"container\">\n",
    "    <p>This is some content inside a container.</p>\n",
    "  </div>\n",
    "\n",
    "  <section class=\"section\">\n",
    "    <p>This content is centered using the Flexbox mixin.</p>\n",
    "  </section>\n",
    "\n",
    "</body>\n",
    "</html>\n",
    "\n"
   ]
  }
 ],
 "metadata": {
  "kernelspec": {
   "display_name": "Python 3",
   "language": "python",
   "name": "python3"
  },
  "language_info": {
   "codemirror_mode": {
    "name": "ipython",
    "version": 3
   },
   "file_extension": ".py",
   "mimetype": "text/x-python",
   "name": "python",
   "nbconvert_exporter": "python",
   "pygments_lexer": "ipython3",
   "version": "3.11.5"
  },
  "orig_nbformat": 4
 },
 "nbformat": 4,
 "nbformat_minor": 2
}
